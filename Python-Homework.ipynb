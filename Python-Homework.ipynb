{
 "cells": [
  {
   "cell_type": "code",
   "execution_count": 51,
   "metadata": {},
   "outputs": [],
   "source": [
    "import csv"
   ]
  },
  {
   "cell_type": "code",
   "execution_count": 52,
   "metadata": {},
   "outputs": [
    {
     "name": "stdout",
     "output_type": "stream",
     "text": [
      "Financial Analysis\n",
      "-------------------\n",
      "Number of months: 86\n",
      "Total profit/loss: 38382578\n",
      "Average change: $446309.0465116279\n",
      "Largest increase: Feb-2012 1170593\n",
      "Largest decrease: Sep-2013 -1196225\n"
     ]
    }
   ],
   "source": [
    "with open(\"Desktop/budget_data.csv\") as csvfile:\n",
    "    csvreader = csv.reader(csvfile, delimiter=',')\n",
    "\n",
    "    csv_header = next(csvreader)\n",
    "    \n",
    "    months = 0\n",
    "    profit = 0\n",
    "    average_profit = 0.00\n",
    "    increase = 0\n",
    "    decrease = 0\n",
    "    oldrow = 0\n",
    "    increase_date = \" \"\n",
    "    decrease_date = \" \"\n",
    "\n",
    "    for row in csvreader:\n",
    "        months += 1\n",
    "        \n",
    "        profit += int(row[1])\n",
    "        \n",
    "        average_profit = profit/months\n",
    "        \n",
    "        newrow = int(row[1])\n",
    "        \n",
    "        newrow_date = row[0]\n",
    "        \n",
    "        newdifference = newrow-oldrow\n",
    "        \n",
    "        if newdifference > increase:\n",
    "            increase = newdifference\n",
    "            increase_date = newrow_date\n",
    "        \n",
    "        if newdifference < decrease:\n",
    "            decrease = newdifference\n",
    "            decrease_date = newrow_date\n",
    "            \n",
    "        newrow = oldrow\n",
    "\n",
    "            \n",
    "\n",
    "print(\"Financial Analysis\")\n",
    "print(\"-------------------\")\n",
    "print(\"Number of months: \" + str(months))\n",
    "print(\"Total profit/loss: \" + str(profit))\n",
    "print(\"Average change: $\" + str(average_profit))\n",
    "print(\"Largest increase: \" + str(increase_date) + \" \" + str(increase))\n",
    "print(\"Largest decrease: \" + str(decrease_date) + \" \"+ str(decrease))"
   ]
  },
  {
   "cell_type": "code",
   "execution_count": null,
   "metadata": {},
   "outputs": [],
   "source": []
  }
 ],
 "metadata": {
  "kernelspec": {
   "display_name": "Python 3",
   "language": "python",
   "name": "python3"
  },
  "language_info": {
   "codemirror_mode": {
    "name": "ipython",
    "version": 3
   },
   "file_extension": ".py",
   "mimetype": "text/x-python",
   "name": "python",
   "nbconvert_exporter": "python",
   "pygments_lexer": "ipython3",
   "version": "3.7.1"
  }
 },
 "nbformat": 4,
 "nbformat_minor": 2
}
