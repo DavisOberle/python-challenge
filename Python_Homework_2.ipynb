{
 "cells": [
  {
   "cell_type": "code",
   "execution_count": 5,
   "metadata": {},
   "outputs": [],
   "source": [
    "import csv"
   ]
  },
  {
   "cell_type": "code",
   "execution_count": 10,
   "metadata": {},
   "outputs": [
    {
     "name": "stdout",
     "output_type": "stream",
     "text": [
      "Election Results\n",
      "-----------------\n",
      "Total Votes: 3521001\n",
      "-----------------\n",
      "Khan: 2218231\n",
      "Correy: 704200\n",
      "Li: 492940\n",
      "O'Tooley: 105630\n",
      "-----------------\n",
      "Winner: Khan\n",
      "-----------------\n"
     ]
    }
   ],
   "source": [
    "with open(\"Desktop/election_data.csv\") as csvfile:\n",
    "    csvreader = csv.reader(csvfile, delimiter=',')\n",
    "\n",
    "    csv_header = next(csvreader)\n",
    "    \n",
    "    number_of_votes = 0\n",
    "    Khan_Total = 0\n",
    "    Correy_Total = 0\n",
    "    Li_Total = 0\n",
    "    OTooley_Total = 0\n",
    "    Winner = \"\"\n",
    "    \n",
    "    for row in csvreader:\n",
    "        number_of_votes += 1\n",
    "        \n",
    "        if row[2] == \"Khan\":\n",
    "            Khan_Total += 1\n",
    "        elif row[2] == \"Correy\":\n",
    "            Correy_Total += 1\n",
    "        elif row[2] == \"Li\":\n",
    "            Li_Total += 1\n",
    "        elif row[2] == \"O'Tooley\":\n",
    "            OTooley_Total += 1\n",
    "            \n",
    "if Khan_Total > Correy_Total and Li_Total and OTooley_Total:\n",
    "    Winner = \"Khan\"\n",
    "\n",
    "elif Correy_Total > Li_Total and OTooley_Total:\n",
    "    Winner = \"Correy\"\n",
    "    \n",
    "elif Li_Total > OTooley_Total:\n",
    "    Winner = \"Li\"\n",
    "\n",
    "elif OTooley > Khan_Total and Li_Total and Correy_Total:\n",
    "    Winner = \"OTooley\"\n",
    "\n",
    "else:\n",
    "    Winner = \"Error\"\n",
    "    \n",
    "print(\"Election Results\")\n",
    "print(\"-----------------\")\n",
    "print(\"Total Votes: \" + str(number_of_votes))\n",
    "print(\"-----------------\")\n",
    "print(\"Khan: \" + str(Khan_Total))\n",
    "print(\"Correy: \" + str(Correy_Total))\n",
    "print(\"Li: \" + str(Li_Total))\n",
    "print(\"O'Tooley: \" + str(OTooley_Total))\n",
    "print(\"-----------------\")\n",
    "print(\"Winner: \" + Winner)     \n",
    "print(\"-----------------\")\n",
    "        "
   ]
  },
  {
   "cell_type": "code",
   "execution_count": null,
   "metadata": {},
   "outputs": [],
   "source": []
  }
 ],
 "metadata": {
  "kernelspec": {
   "display_name": "Python 3",
   "language": "python",
   "name": "python3"
  },
  "language_info": {
   "codemirror_mode": {
    "name": "ipython",
    "version": 3
   },
   "file_extension": ".py",
   "mimetype": "text/x-python",
   "name": "python",
   "nbconvert_exporter": "python",
   "pygments_lexer": "ipython3",
   "version": "3.7.1"
  }
 },
 "nbformat": 4,
 "nbformat_minor": 2
}
